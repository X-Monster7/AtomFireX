{
 "cells": [
  {
   "cell_type": "markdown",
   "id": "eb49ab2473c67a31",
   "metadata": {},
   "source": [
    "# torch 常用API"
   ]
  },
  {
   "cell_type": "code",
   "execution_count": 1,
   "id": "9882aed16a6538f2",
   "metadata": {
    "ExecuteTime": {
     "end_time": "2023-11-05T13:38:34.710179500Z",
     "start_time": "2023-11-05T13:36:52.495827100Z"
    }
   },
   "outputs": [],
   "source": [
    "from pprint import pprint as p\n",
    "import torch"
   ]
  },
  {
   "cell_type": "code",
   "execution_count": 27,
   "id": "5bcfe20b33e99ffd",
   "metadata": {
    "ExecuteTime": {
     "end_time": "2023-11-04T05:43:22.773829400Z",
     "start_time": "2023-11-04T05:43:22.760476400Z"
    }
   },
   "outputs": [
    {
     "name": "stdout",
     "output_type": "stream",
     "text": [
      "tensor([[[-0.2304,  1.6380,  0.7397,  0.3390],\n",
      "         [-0.8128, -0.7826, -0.7577, -0.3546],\n",
      "         [ 1.2946, -0.8645, -0.1968,  0.0474]]])\n",
      "tensor([[[0., 0., 0., 0.],\n",
      "         [0., 0., 0., 0.],\n",
      "         [0., 0., 0., 0.]]])\n"
     ]
    }
   ],
   "source": [
    "x = torch.randn((1, 3, 4), dtype = torch.float32)\n",
    "y = torch.zeros_like(x)\n",
    "p(x)\n",
    "p(y)"
   ]
  },
  {
   "cell_type": "markdown",
   "id": "968720eed41932e1",
   "metadata": {},
   "source": [
    "## torch.eye(x, y)\n",
    "\n",
    "其中x是行，y是列"
   ]
  },
  {
   "cell_type": "code",
   "execution_count": 28,
   "id": "4a7ea0465b809d54",
   "metadata": {
    "ExecuteTime": {
     "end_time": "2023-11-04T05:43:23.568366600Z",
     "start_time": "2023-11-04T05:43:23.552548900Z"
    }
   },
   "outputs": [
    {
     "name": "stdout",
     "output_type": "stream",
     "text": [
      "tensor([[1., 0., 0.],\n",
      "        [0., 1., 0.],\n",
      "        [0., 0., 1.]])\n",
      "tensor([[1., 0., 0.],\n",
      "        [0., 1., 0.],\n",
      "        [0., 0., 1.],\n",
      "        [0., 0., 0.]])\n"
     ]
    }
   ],
   "source": [
    "_ = torch.eye(3, dtype = torch.float32)\n",
    "_local = torch.eye(4, 3)\n",
    "p(_)\n",
    "p(_local)"
   ]
  },
  {
   "cell_type": "markdown",
   "id": "1b337651f36c59f3",
   "metadata": {},
   "source": [
    "## torch.unsqueeze(x: Tensor, dim: [int | tuple]), torch.squeeze(x: Tensor, dim: [int | tuple, optional] )\n",
    "\n",
    "if dim given, the input will be squeezed only in the specified dimensions.\n",
    "\n",
    "默认而言，squeeze是全部维度\n"
   ]
  },
  {
   "cell_type": "code",
   "execution_count": 35,
   "id": "405079dadb95f982",
   "metadata": {
    "ExecuteTime": {
     "end_time": "2023-11-04T06:01:38.511048300Z",
     "start_time": "2023-11-04T06:01:38.476329200Z"
    }
   },
   "outputs": [
    {
     "ename": "TypeError",
     "evalue": "unsqueeze() missing 1 required positional arguments: \"dim\"",
     "output_type": "error",
     "traceback": [
      "\u001B[1;31m---------------------------------------------------------------------------\u001B[0m",
      "\u001B[1;31mTypeError\u001B[0m                                 Traceback (most recent call last)",
      "Cell \u001B[1;32mIn[35], line 1\u001B[0m\n\u001B[1;32m----> 1\u001B[0m p(\u001B[43mtorch\u001B[49m\u001B[38;5;241;43m.\u001B[39;49m\u001B[43munsqueeze\u001B[49m\u001B[43m(\u001B[49m\u001B[43mx\u001B[49m\u001B[43m)\u001B[49m\u001B[38;5;241m.\u001B[39mshape)\n\u001B[0;32m      2\u001B[0m p(torch\u001B[38;5;241m.\u001B[39munsqueeze(x, dim \u001B[38;5;241m=\u001B[39m \u001B[38;5;241m2\u001B[39m)\u001B[38;5;241m.\u001B[39mshape)\n\u001B[0;32m      3\u001B[0m p(torch\u001B[38;5;241m.\u001B[39msqueeze(x)\u001B[38;5;241m.\u001B[39mshape)\n",
      "\u001B[1;31mTypeError\u001B[0m: unsqueeze() missing 1 required positional arguments: \"dim\""
     ]
    }
   ],
   "source": [
    "p(torch.unsqueeze(x).shape)\n",
    "p(torch.unsqueeze(x, dim = 2).shape)\n",
    "p(torch.squeeze(x).shape)"
   ]
  },
  {
   "cell_type": "markdown",
   "id": "39804840940094fa",
   "metadata": {},
   "source": [
    "## torch.max(input: Tensor ,dim: int, keepdim: bool )\n",
    "\n",
    "其中，dim表示要降低的维度，keepdim表示是否要降低维度"
   ]
  },
  {
   "cell_type": "code",
   "execution_count": 34,
   "id": "73db369eb70cf217",
   "metadata": {
    "ExecuteTime": {
     "end_time": "2023-11-04T05:51:22.610130Z",
     "start_time": "2023-11-04T05:51:22.522996300Z"
    }
   },
   "outputs": [
    {
     "name": "stdout",
     "output_type": "stream",
     "text": [
      "torch.Size([1, 3, 4])\n",
      "torch.return_types.max(\n",
      "values=tensor([[ 1.6380, -0.3546,  1.2946]]),\n",
      "indices=tensor([[1, 3, 0]]))\n",
      "'==========='\n",
      "torch.return_types.max(\n",
      "values=tensor([[[ 1.6380],\n",
      "         [-0.3546],\n",
      "         [ 1.2946]]]),\n",
      "indices=tensor([[[1],\n",
      "         [3],\n",
      "         [0]]]))\n"
     ]
    }
   ],
   "source": [
    "p(x.shape)\n",
    "p(torch.max(x, 2))\n",
    "p(\"===========\")\n",
    "p(torch.max(x, 2, keepdim = True))"
   ]
  },
  {
   "cell_type": "code",
   "execution_count": null,
   "id": "4f627ccfdd172d96",
   "metadata": {},
   "outputs": [],
   "source": []
  }
 ],
 "metadata": {
  "kernelspec": {
   "display_name": "Python 3 (ipykernel)",
   "language": "python",
   "name": "python3"
  },
  "language_info": {
   "codemirror_mode": {
    "name": "ipython",
    "version": 3
   },
   "file_extension": ".py",
   "mimetype": "text/x-python",
   "name": "python",
   "nbconvert_exporter": "python",
   "pygments_lexer": "ipython3",
   "version": "3.8.16"
  }
 },
 "nbformat": 4,
 "nbformat_minor": 5
}
