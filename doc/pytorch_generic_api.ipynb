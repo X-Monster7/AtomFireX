{
 "cells": [
  {
   "cell_type": "markdown",
   "id": "eb49ab2473c67a31",
   "metadata": {},
   "source": [
    "# torch 常用API"
   ]
  },
  {
   "cell_type": "code",
   "execution_count": 11,
   "id": "9882aed16a6538f2",
   "metadata": {
    "ExecuteTime": {
     "end_time": "2023-11-19T06:14:30.546664400Z",
     "start_time": "2023-11-19T06:14:30.526607900Z"
    }
   },
   "outputs": [],
   "source": [
    "from pprint import pprint as p\n",
    "import torch"
   ]
  },
  {
   "cell_type": "code",
   "execution_count": 12,
   "id": "5bcfe20b33e99ffd",
   "metadata": {
    "ExecuteTime": {
     "end_time": "2023-11-19T06:14:30.896399500Z",
     "start_time": "2023-11-19T06:14:30.883402500Z"
    }
   },
   "outputs": [
    {
     "name": "stdout",
     "output_type": "stream",
     "text": [
      "tensor([[[-0.8547, -0.7618,  0.6191, -0.8608],\n",
      "         [-1.5445,  3.1491, -2.4543, -1.0007],\n",
      "         [ 0.8767, -0.6083,  1.2671,  0.7904]]])\n",
      "tensor([[[0., 0., 0., 0.],\n",
      "         [0., 0., 0., 0.],\n",
      "         [0., 0., 0., 0.]]])\n"
     ]
    }
   ],
   "source": [
    "x = torch.randn((1, 3, 4), dtype = torch.float32)\n",
    "y = torch.zeros_like(x)\n",
    "p(x)\n",
    "p(y)"
   ]
  },
  {
   "cell_type": "markdown",
   "id": "968720eed41932e1",
   "metadata": {},
   "source": [
    "## torch.eye(x, y)\n",
    "\n",
    "其中x是行，y是列"
   ]
  },
  {
   "cell_type": "code",
   "execution_count": 13,
   "id": "4a7ea0465b809d54",
   "metadata": {
    "ExecuteTime": {
     "end_time": "2023-11-19T06:14:32.725820100Z",
     "start_time": "2023-11-19T06:14:32.668444900Z"
    }
   },
   "outputs": [
    {
     "name": "stdout",
     "output_type": "stream",
     "text": [
      "tensor([[1., 0., 0.],\n",
      "        [0., 1., 0.],\n",
      "        [0., 0., 1.]])\n",
      "tensor([[1., 0., 0.],\n",
      "        [0., 1., 0.],\n",
      "        [0., 0., 1.],\n",
      "        [0., 0., 0.]])\n"
     ]
    }
   ],
   "source": [
    "_ = torch.eye(3, dtype = torch.float32)\n",
    "_local = torch.eye(4, 3)\n",
    "p(_)\n",
    "p(_local)"
   ]
  },
  {
   "cell_type": "markdown",
   "id": "1b337651f36c59f3",
   "metadata": {},
   "source": [
    "## torch.unsqueeze(x: Tensor, dim: [int | tuple]), torch.squeeze(x: Tensor, dim: [int | tuple, optional] )\n",
    "\n",
    "if dim given, the input will be squeezed only in the specified dimensions.\n",
    "\n",
    "默认而言，squeeze是全部维度\n"
   ]
  },
  {
   "cell_type": "code",
   "execution_count": 16,
   "id": "405079dadb95f982",
   "metadata": {
    "ExecuteTime": {
     "end_time": "2023-11-19T06:16:02.973238100Z",
     "start_time": "2023-11-19T06:16:02.959238500Z"
    }
   },
   "outputs": [
    {
     "name": "stdout",
     "output_type": "stream",
     "text": [
      "torch.Size([1, 3, 1, 4])\n",
      "torch.Size([3, 4])\n"
     ]
    }
   ],
   "source": [
    "import torch\n",
    "\n",
    "x = torch.randn((1, 3, 4), dtype = torch.float32)\n",
    "\n",
    "# TypeError: unsqueeze() missing 1 required positional arguments: \"dim\"\n",
    "# p(torch.unsqueeze(x).shape)\n",
    "p(torch.unsqueeze(x, dim = 2).shape)\n",
    "p(torch.squeeze(x).shape)"
   ]
  },
  {
   "cell_type": "markdown",
   "id": "39804840940094fa",
   "metadata": {},
   "source": [
    "## torch.max(input: Tensor ,dim: int, keepdim: bool )\n",
    "\n",
    "其中，dim表示要降低的维度，keepdim表示是否要降低维度"
   ]
  },
  {
   "cell_type": "code",
   "execution_count": 17,
   "id": "73db369eb70cf217",
   "metadata": {
    "ExecuteTime": {
     "end_time": "2023-11-19T06:16:30.180908500Z",
     "start_time": "2023-11-19T06:16:30.154908300Z"
    }
   },
   "outputs": [
    {
     "name": "stdout",
     "output_type": "stream",
     "text": [
      "torch.Size([1, 3, 4])\n",
      "torch.return_types.max(\n",
      "values=tensor([[0.9279, 1.1711, 1.3646]]),\n",
      "indices=tensor([[1, 1, 0]]))\n",
      "'==========='\n",
      "torch.return_types.max(\n",
      "values=tensor([[[0.9279],\n",
      "         [1.1711],\n",
      "         [1.3646]]]),\n",
      "indices=tensor([[[1],\n",
      "         [1],\n",
      "         [0]]]))\n"
     ]
    }
   ],
   "source": [
    "import torch\n",
    "\n",
    "x = torch.randn((1, 3, 4), dtype = torch.float32)\n",
    "\n",
    "p(x.shape)\n",
    "p(torch.max(x, 2))\n",
    "p(\"===========\")\n",
    "p(torch.max(x, 2, keepdim = True))"
   ]
  },
  {
   "attachments": {
    "image.png": {
     "image/png": "[encoded data removed]"
    }
   },
   "cell_type": "markdown",
   "id": "ced27d2c815b6cac",
   "metadata": {},
   "source": [
    "# nn.BatchNorm1d(4) 4是通道数，位于倒数第二维, 或者倒数第一维。如果，（1, channel) 会报错,原因在于多个batch才能计算mean和std。\n",
    "![image.png](attachment:image.png)"
   ]
  },
  {
   "cell_type": "code",
   "execution_count": 18,
   "id": "a37def67c359048",
   "metadata": {
    "ExecuteTime": {
     "end_time": "2023-11-19T06:17:39.493299Z",
     "start_time": "2023-11-19T06:17:39.454885800Z"
    }
   },
   "outputs": [
    {
     "name": "stdout",
     "output_type": "stream",
     "text": [
      "tensor([[[ 0.,  1.,  2.,  3.],\n",
      "         [ 4.,  5.,  6.,  7.],\n",
      "         [ 8.,  9., 10., 11.]],\n",
      "\n",
      "        [[12., 13., 14., 15.],\n",
      "         [16., 17., 18., 19.],\n",
      "         [20., 21., 22., 23.]]])\n"
     ]
    },
    {
     "data": {
      "text/plain": [
       "tensor([[[-1.2288, -1.0650, -0.9012, -0.7373],\n",
       "         [-1.2288, -1.0650, -0.9012, -0.7373],\n",
       "         [-1.2288, -1.0650, -0.9012, -0.7373]],\n",
       "\n",
       "        [[ 0.7373,  0.9012,  1.0650,  1.2288],\n",
       "         [ 0.7373,  0.9012,  1.0650,  1.2288],\n",
       "         [ 0.7373,  0.9012,  1.0650,  1.2288]]],\n",
       "       grad_fn=<NativeBatchNormBackward0>)"
      ]
     },
     "execution_count": 18,
     "metadata": {},
     "output_type": "execute_result"
    }
   ],
   "source": [
    "# x = torch.randn((1, 1024))\n",
    "# net = torch.nn.BatchNorm1d(1024)\n",
    "# net(x)\n",
    "import torch\n",
    "\n",
    "\"\"\"\n",
    "具体的操作顺序是(2, 1, 4) ，沿着通道数把全部batch的特征都进行归一化\n",
    "\"\"\"\n",
    "\n",
    "x = torch.arange(24, dtype = torch.float32).reshape(2, 3, 4)\n",
    "print(x)\n",
    "net = torch.nn.BatchNorm1d(3)\n",
    "net(x)\n"
   ]
  },
  {
   "cell_type": "markdown",
   "id": "bc83d07bc4db619",
   "metadata": {},
   "source": [
    "# nn.Embedding 嵌入层\n",
    "## 原理\n",
    "nn.Embedding是一个简单的从索引到固定大小向量表示的映射。它被用作词嵌入模型，将单词（离散）转换成连续的低维度表示（密集）。\n",
    "\n",
    "nn.embedding可以将离散特征映射到连续空间中，从而使其可以用于进一步的计算。具体来说，nn.embedding将离散特征的索引映射到一个低维度的词向量中，每个词向量都有相同的维度。\n",
    "\n",
    "在nn.embedding的内部，有一个矩阵（也称为词嵌入矩阵），其中每一行表示一个词的词向量表示，每一列代表不同的词向量维度。当输入一个索引时，该索引将被映射到该索引所在的行，然后返回相应的词向量。"
   ]
  },
  {
   "cell_type": "code",
   "execution_count": 10,
   "id": "1cfaadc2ec4d287c",
   "metadata": {
    "ExecuteTime": {
     "end_time": "2023-11-19T06:13:00.726190400Z",
     "start_time": "2023-11-19T06:13:00.690194200Z"
    }
   },
   "outputs": [
    {
     "name": "stdout",
     "output_type": "stream",
     "text": [
      "torch.Size([2, 100, 24])\n"
     ]
    }
   ],
   "source": [
    "import torch\n",
    "\n",
    "net = torch.nn.Embedding(100, 24)\n",
    "print(net(torch.zeros(2, 100, dtype = torch.long)).shape)\n",
    "\n"
   ]
  },
  {
   "cell_type": "markdown",
   "id": "6eed8a15e574c817",
   "metadata": {},
   "source": [
    "# nn.LayerNorm \n",
    "## 参数是 [想要layernorm的tensor的batch之后的shape] \n",
    "具体的操作是 (1, 想要layernorm的tensor的batch之后的shape)"
   ]
  },
  {
   "cell_type": "code",
   "execution_count": 9,
   "id": "7acb67f2939e0822",
   "metadata": {
    "ExecuteTime": {
     "start_time": "2023-11-19T06:10:10.343327900Z"
    }
   },
   "outputs": [
    {
     "name": "stdout",
     "output_type": "stream",
     "text": [
      "tensor([[[ 0.,  1.,  2.,  3.],\n",
      "         [ 4.,  5.,  6.,  7.],\n",
      "         [ 8.,  9., 10., 11.]],\n",
      "\n",
      "        [[12., 13., 14., 15.],\n",
      "         [16., 17., 18., 19.],\n",
      "         [20., 21., 22., 23.]]])\n"
     ]
    },
    {
     "data": {
      "text/plain": [
       "tensor([[[-1.5933, -1.3036, -1.0139, -0.7242],\n",
       "         [-0.4345, -0.1448,  0.1448,  0.4345],\n",
       "         [ 0.7242,  1.0139,  1.3036,  1.5933]],\n",
       "\n",
       "        [[-1.5933, -1.3036, -1.0139, -0.7242],\n",
       "         [-0.4345, -0.1448,  0.1448,  0.4345],\n",
       "         [ 0.7242,  1.0139,  1.3036,  1.5933]]],\n",
       "       grad_fn=<NativeLayerNormBackward0>)"
      ]
     },
     "execution_count": 9,
     "metadata": {},
     "output_type": "execute_result"
    }
   ],
   "source": [
    "x = torch.arange(24, dtype = torch.float32).reshape(2, 3, 4)\n",
    "print(x)\n",
    "net = torch.nn.LayerNorm([3, 4])\n",
    "net(x)\n"
   ]
  },
  {
   "cell_type": "code",
   "execution_count": null,
   "id": "9819a683335fd51",
   "metadata": {},
   "outputs": [],
   "source": []
  }
 ],
 "metadata": {
  "kernelspec": {
   "display_name": "Python 3 (ipykernel)",
   "language": "python",
   "name": "python3"
  },
  "language_info": {
   "codemirror_mode": {
    "name": "ipython",
    "version": 3
   },
   "file_extension": ".py",
   "mimetype": "text/x-python",
   "name": "python",
   "nbconvert_exporter": "python",
   "pygments_lexer": "ipython3",
   "version": "3.8.16"
  }
 },
 "nbformat": 4,
 "nbformat_minor": 5
}
